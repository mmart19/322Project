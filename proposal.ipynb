{
 "metadata": {
  "language_info": {
   "codemirror_mode": {
    "name": "ipython",
    "version": 3
   },
   "file_extension": ".py",
   "mimetype": "text/x-python",
   "name": "python",
   "nbconvert_exporter": "python",
   "pygments_lexer": "ipython3",
   "version": 3
  },
  "orig_nbformat": 2
 },
 "nbformat": 4,
 "nbformat_minor": 2,
 "cells": [
  {
   "source": [
    "<h1>CPSC 322 Project: Odds of Making the Elite Eight (NCAAM) by Brian Steuber & Mateo Martinez</h1>\n"
   ],
   "cell_type": "markdown",
   "metadata": {}
  },
  {
   "source": [
    "<h2>Dataset</h2>\n",
    "<p>Our dataset used information pulled from annual data from both https://www.ncaa.com/ and https://www.sports-reference.com/cbb. From there our data was adjusted to include certain stats that we felt was relevant to a men's college basketball team making the Elite Eight such as their seed. We decided to keep it in the format of a CSV as we are familiar working with them from class. So, our attributes will include seed, team name, overall win-loss percentage, points-per-game offensively, and whether they made the Elite Eight that year. This will allow us to use only the Elite Eight attribute as our y train and everything else as our X train.</p>"
   ],
   "cell_type": "markdown",
   "metadata": {}
  },
  {
   "source": [
    "<h2>Implementation/Technical Merit</h2>\n",
    "<p>One challenge we might encounter are the upsets that occur every year in March Madness. There are always outliers and so we will have to be cautious to not overfit our classifier so that while rare we will occasionally predict these upsets. Luckily, our data is already continuous so we won't have to deal with a ton of categorical data either. We have already cut down our data as we didn't want a ton of data that was quite similar so for instance we chose to only include overall win-loss percentage and not conference win-loss percentage as well</p>"
   ],
   "cell_type": "markdown",
   "metadata": {}
  },
  {
   "source": [
    "<h2>Potential Impact</h2>\n",
    "<p>As many people know, making brackets every year for March Madness is a popular event. This could possibly help people better predict who might make the Elite Eight as there are over 60 teams annually to decide from. Stakeholders are going to include people affiliated with participating colleges, sports bettors, or even those who want to build a bracket but don't know a ton about college basketball.</p>"
   ],
   "cell_type": "markdown",
   "metadata": {}
  }
 ]
}