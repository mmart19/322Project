{
 "cells": [
  {
   "cell_type": "markdown",
   "metadata": {},
   "source": [
    "<h1>Predicting the Sweet Sixteen - March Madness Project</h1>\n",
    "<h2>By Brian Steuber and Mateo Martinez<h3>\n",
    "    <p>CPSC 322, Spring 2021</p>"
   ]
  },
  {
   "cell_type": "markdown",
   "metadata": {},
   "source": [
    "<h2>Introduction</h2>\n",
    "<p>In our project, we decided to try to classify whether a NCAA men's basketball team that made the NCAA tournament would make the Sweet 16. We pulled data from both\n",
    "NCAA.com and sports-reference.com in order to create our dataset. Our attributes that we chose to use were the team's seed in the tournament, their overall win-loss percentage, their conference win-loss percentage, the average points per game they had, and their opponents points per game that they allowed. The classifiers allow users to plug in those stats for their team to predict whether or not their team would possibly make the Sweet 16. <b>FIX!!! Add in which classifier we ended up going with (our findings)!</b> We thought that this could be useful to a wide range of people from college students to bettors or even just the casual fan who's rooting for their team.</p>\n"
   ]
  },
  {
   "cell_type": "markdown",
   "metadata": {},
   "source": [
    "<h2>Data Analysis</h2>"
   ]
  },
  {
   "cell_type": "markdown",
   "metadata": {},
   "source": [
    "<h3>Our Dataset</h3>\n",
    "<p>As we mentioned before our attributes are comprised of the team's seed in the tournament, their overall win-loss percentage, their conference win-loss percentage, the average points per game they had, and their opponents average points per game that they allowed which was used to predict the label yes or no for whether or not they will make the Sweet 16. The seeds are ints, all other statitistics are floats, and the label is a string. We have about 16 years worth of data in our dataset however, the number of contestants in the tournament varied between 65 or 68 competitors depending on the year. Therefore, we have 1070 instances throughout the sample with a little under 25% being instances that made the Sweet 16.</p>"
   ]
  },
  {
   "cell_type": "markdown",
   "metadata": {},
   "source": [
    "<h3>Import Statements</h3>"
   ]
  },
  {
   "cell_type": "code",
   "execution_count": 1,
   "metadata": {},
   "outputs": [],
   "source": [
    "import copy\n",
    "import importlib\n",
    "import mysklearn.myutils\n",
    "importlib.reload(mysklearn.myutils)\n",
    "import mysklearn.myutils as myutils\n",
    "\n",
    "import mysklearn.mypytable\n",
    "importlib.reload(mysklearn.mypytable)\n",
    "from mysklearn.mypytable import MyPyTable \n",
    "\n",
    "import mysklearn.myclassifiers\n",
    "importlib.reload(mysklearn.myclassifiers)\n",
    "from mysklearn.myclassifiers import MyKNeighborsClassifier, MySimpleLinearRegressor, MyNaiveBayesClassifier, MyDecisionTreeClassifier, MyRandomClassifier, MyZeroRClassifier, MyRandomForestClassifier\n",
    "\n",
    "import mysklearn.myevaluation\n",
    "importlib.reload(mysklearn.myevaluation)\n",
    "import mysklearn.myevaluation as myevaluation\n",
    "\n",
    "import plot_utils"
   ]
  },
  {
   "cell_type": "markdown",
   "metadata": {},
   "source": [
    "<h3>Summary Statistics</h3>"
   ]
  },
  {
   "cell_type": "code",
   "execution_count": 2,
   "metadata": {},
   "outputs": [],
   "source": [
    "# Load in data from path\n",
    "file_path = (\"input_data/college-basketball.csv\")\n",
    "basketball_table = MyPyTable().load_from_file(file_path)\n",
    "\n",
    "# Get the columns\n",
    "seed = basketball_table.get_column(\"Seed\")\n",
    "overall_wl = basketball_table.get_column(\"Overall W-L%\")\n",
    "conference_wl = basketball_table.get_column(\"Conference W-L%\")\n",
    "own_ppg = basketball_table.get_column(\"Own PPG\")\n",
    "opp_ppg = basketball_table.get_column(\"Opp PPG\")\n",
    "sweet16 = basketball_table.get_column(\"sweet-16?\")"
   ]
  },
  {
   "cell_type": "markdown",
   "metadata": {},
   "source": [
    "<p>For our attributes Overall W-L%, Conference W-L%, Own PPG, and Opp PPG we decided to turn the stats into rankings so that we they would work better alongside our\n",
    "forest classifier as it's creating its branches for each tree.</p>"
   ]
  },
  {
   "cell_type": "code",
   "execution_count": 3,
   "metadata": {},
   "outputs": [],
   "source": [
    "# Creating ranks of stats on a 1-5 basis\n",
    "ranked_overall = myutils.rank_by_bin_nums(overall_wl, 5)\n",
    "ranked_conference = myutils.rank_by_bin_nums(conference_wl, 5)\n",
    "ranked_own_ppg = myutils.rank_by_bin_nums(own_ppg, 5)\n",
    "ranked_opp_ppg = myutils.rank_by_bin_nums(opp_ppg, 5)\n",
    "# Retrieving summary statistics for both ranked and original stats\n",
    "ranked_overall_min, ranked_overall_max, ranked_overall_median, ranked_overall_average, ranked_overall_mode = myutils.get_sum_stats(ranked_overall)\n",
    "ranked_conference_min, ranked_conference_max, ranked_conference_median, ranked_conference_average, ranked_conference_mode = myutils.get_sum_stats(ranked_conference)\n",
    "ranked_own_ppg_min, ranked_own_ppg_max, ranked_own_ppg_median, ranked_own_ppg_average, ranked_own_ppg_mode = myutils.get_sum_stats(ranked_own_ppg)\n",
    "ranked_opp_ppg_min, ranked_opp_ppg_max, ranked_opp_ppg_median, ranked_opp_ppg_average, ranked_opp_ppg_mode = myutils.get_sum_stats(ranked_opp_ppg)\n",
    "\n",
    "seed_min, seed_max, seed_median, seed_average, seed_mode = myutils.get_sum_stats(seed)\n",
    "overall_min, overall_max, overall_median, overall_average, overall_mode = myutils.get_sum_stats(overall_wl)\n",
    "conference_min, conference_max, conference_median, conference_average, conference_mode = myutils.get_sum_stats(conference_wl)\n",
    "own_ppg_min, own_ppg_max, own_ppg_median, own_ppg_average, own_ppg_mode = myutils.get_sum_stats(own_ppg)\n",
    "opp_ppg_min, opp_ppg_max, opp_ppg_median, opp_ppg_average, opp_ppg_mode = myutils.get_sum_stats(opp_ppg)\n",
    "\n",
    "\n"
   ]
  },
  {
   "cell_type": "markdown",
   "metadata": {},
   "source": [
    "<h4>Presenting Summary Statistics</h4>"
   ]
  },
  {
   "cell_type": "markdown",
   "metadata": {},
   "source": [
    "<p>We decided that what's most important in our summary statistics are modes, averages, max's, and mins. This should give us a decent idea of the \n",
    "the ranges within our dataset. This should be taken note of as what is quite common in March Madness are upsets where a lower ranked team elimnates\n",
    "a higher ranked team from the tournament. While we have different variations of our data we believe that the original format of our data should still\n",
    "be analyzed. When retrieving summary stats, we sorted our data before hand so we could compare both medians and averages to identify if there are\n",
    "outliers within our data.</p>"
   ]
  },
  {
   "cell_type": "code",
   "execution_count": 4,
   "metadata": {},
   "outputs": [
    {
     "name": "stdout",
     "output_type": "stream",
     "text": [
      "Seed Median:  9.0\n",
      "Seed Average:  8.715\n",
      "Seed Mode:  16.0\n",
      "\n",
      "\n",
      "Overall W-L% Average:  0.717\n",
      "Conference W-L% Average:  0.713\n",
      "\n",
      "\n",
      "Team's PPG (points-per-game) Min:  58.7\n",
      "Team's PPG Max:  91.0\n",
      "Team's PPG Average:  73.52\n",
      "Team's PPG Median:  73.4\n",
      "Opponent's PPG Min:  51.5\n",
      "Opponent's PPG Max:  81.7\n",
      "Opponent's PPG Average:  66.275\n",
      "Opponent's PPG Median:  66.2\n"
     ]
    }
   ],
   "source": [
    "print(\"Seed Median: \", seed_median)\n",
    "print(\"Seed Average: \", seed_average)\n",
    "print(\"Seed Mode: \", seed_mode)\n",
    "print(\"\\n\")\n",
    "print(\"Overall W-L% Average: \", overall_average)\n",
    "print(\"Conference W-L% Average: \", conference_average)\n",
    "print(\"\\n\")\n",
    "print(\"Team's PPG (points-per-game) Min: \", own_ppg_min)\n",
    "print(\"Team's PPG Max: \", own_ppg_max)\n",
    "print(\"Team's PPG Average: \", own_ppg_average)\n",
    "print(\"Team's PPG Median: \", own_ppg_median)\n",
    "print(\"Opponent's PPG Min: \", opp_ppg_min)\n",
    "print(\"Opponent's PPG Max: \", opp_ppg_max)\n",
    "print(\"Opponent's PPG Average: \", opp_ppg_average)\n",
    "print(\"Opponent's PPG Median: \", opp_ppg_median)"
   ]
  },
  {
   "cell_type": "markdown",
   "metadata": {},
   "source": [
    "<p> Due to the fact that the NCAA tournament includes play-in rounds, where teams compete for the chance to be in the tournament, there are much more 16-seeds than any\n",
    "other seed. This occurs because any team that participates in the play-in rounds is typically a 16-seed. There are some discrepancies in this though as in recent years\n",
    "the NCAA has allowed for more teams to compete in the play-in round so not all teams in the play-in round are necessarily still a 16-seed. Now, the teams can be \n",
    "anywhere from a 11-seed to a 16-seed. As can be seen as well, a team's conference win-loss percentage is typically higher than a team's overall. This is due to the fact that if a team plays well in their conference they may not rank as well compared to other conferences so their overall win-loss percentage isn't as high. Also, their overall win-loss record accounts for the tournament as well so unless they have a completely perfect season their overall win-loss percentage will never be as high as their conference win-loss percentage.</p>\n",
    "<p>What should also be addressed is also addressed is the wide ranges between points per game. The result of having many more 16-seeds than anything else is as they are lower ranked teams it allows for the minimums of our stats to drop a little lower. If a team is within a bad league then they may have the chance to make a play-in round without being that good of a team. As can be seen above, there is a difference of over 30 points between the highest PPG and the lowest. A similar, difference is also present within the average PPG allowed by a team's opponent.</p>"
   ]
  },
  {
   "cell_type": "markdown",
   "metadata": {},
   "source": [
    "<h5>Seed Distributions</h5>"
   ]
  },
  {
   "cell_type": "code",
   "execution_count": 5,
   "metadata": {},
   "outputs": [
    {
     "data": {
      "image/png": "[encoded data removed]",
      "text/plain": [
       "<Figure size 432x288 with 1 Axes>"
      ]
     },
     "metadata": {
      "needs_background": "light"
     },
     "output_type": "display_data"
    }
   ],
   "source": [
    "#Seed Counts\n",
    "seed_values, seed_counts = myutils.get_seed_counts(seed)\n",
    "plot_utils.bar_chart_seed(seed_values, seed_counts, \"Figure 1\", \"Seeds\", \"Counts\")"
   ]
  },
  {
   "cell_type": "markdown",
   "metadata": {},
   "source": [
    "<h5>Average Points Per Game by Seed</h5>"
   ]
  },
  {
   "cell_type": "code",
   "execution_count": 6,
   "metadata": {},
   "outputs": [
    {
     "data": {
      "image/png": "[encoded data removed]",
      "text/plain": [
       "<Figure size 432x288 with 1 Axes>"
      ]
     },
     "metadata": {
      "needs_background": "light"
     },
     "output_type": "display_data"
    }
   ],
   "source": [
    "#Average points per game depending on seed\n",
    "averages = []\n",
    "\n",
    "curr_seed = 1\n",
    "while curr_seed < 17:\n",
    "    current_seed_data = []\n",
    "    for row in range(len(basketball_table.data)):\n",
    "        if int(basketball_table.data[row][0]) == curr_seed:\n",
    "            current_seed_data.append(basketball_table.data[row][3])\n",
    "            \n",
    "    seed_ppg_average = myutils.get_average(current_seed_data)\n",
    "    averages.append(round(seed_ppg_average,2))\n",
    "    curr_seed += 1\n",
    "\n",
    "seeds = [1, 2, 3, 4, 5, 6, 7, 8, 9, 10, 11, 12, 13, 14, 15, 16]\n",
    "\n",
    "plot_utils.scatter_plot(seeds, averages, \"Figure 2\", \"Seed\", \"Average Points Per Game\")"
   ]
  },
  {
   "cell_type": "markdown",
   "metadata": {},
   "source": [
    "<h5>Overall and Conference Win-Loss Percentage of Teams in Sweet 16</h5>"
   ]
  },
  {
   "cell_type": "code",
   "execution_count": 7,
   "metadata": {},
   "outputs": [
    {
     "data": {
      "image/png": "[encoded data removed]",
      "text/plain": [
       "<Figure size 432x288 with 1 Axes>"
      ]
     },
     "metadata": {
      "needs_background": "light"
     },
     "output_type": "display_data"
    },
    {
     "data": {
      "image/png": "[encoded data removed]",
      "text/plain": [
       "<Figure size 432x288 with 1 Axes>"
      ]
     },
     "metadata": {
      "needs_background": "light"
     },
     "output_type": "display_data"
    }
   ],
   "source": [
    "sweet_16_overall_win_percentage = myutils.get_sweet_overall_win_percentage(basketball_table)\n",
    "sweet_16_conference_win_percentage = myutils.get_sweet_conference_win_percentage(basketball_table)\n",
    "plot_utils.histogram_example(sweet_16_overall_win_percentage, \"Figure 3\", \"Overall W-L%\", \"Counts\")\n",
    "plot_utils.histogram_example(sweet_16_conference_win_percentage, \"Figure 4\", \"Conference W-L%\", \"Counts\")"
   ]
  },
  {
   "cell_type": "markdown",
   "metadata": {},
   "source": [
    "<h4>Data Visualization Results</h4>\n",
    "<p>As mentioned before, it can be seen in figure 1 that there are much more more 11-seeds and 16-seeds than the rest of the seeds. Figure 1 shows that there are between 20-30 more 11-seeds and 16-seeds. In Figure 2, we can see that a relationship somewhat exists between seeds and a team's ppg. It makes sense as to why a 1-seed on average will have more points per game than a 16-seed. While in Figure 3 and Figure 4, we can see the differences between a team's overall win-loss percentage and a team's conference win-loss percentage. Figure 3 falls between bell-shaped and bimodal but it falls closer to being bell-shaped. In regards to overall win-loss percentage, most teams will fall somewhere between .75 and .825. Whereas with conference win-loss percentage, the shape of the histogram is bimodal. There are more teams that will have a higher win-loss percentage as many more teams will fall between .8 and .9</p>\n"
   ]
  },
  {
   "cell_type": "markdown",
   "metadata": {},
   "source": [
    "<h2>Classification Results</h2>"
   ]
  },
  {
   "cell_type": "code",
   "execution_count": 14,
   "metadata": {},
   "outputs": [
    {
     "name": "stdout",
     "output_type": "stream",
     "text": [
      "zero Accuracy:  0.75\n",
      "Random Accuracy:  0.75\n",
      "Naivebayes Accuracy:  0.64\n",
      "KNN Accuracy:  0.75\n",
      "Forest Accuracy:  0.75\n"
     ]
    }
   ],
   "source": [
    "# X_train & y_train\n",
    "X_train = []\n",
    "y_train = []\n",
    "\n",
    "# Fill the X_train\n",
    "for row in range(len(basketball_table.data)):\n",
    "    tmp = []\n",
    "    for col in range(len(basketball_table.data[0]) - 1):\n",
    "        if(col != 1):\n",
    "            tmp.append(basketball_table.data[row][col])\n",
    "    X_train.append(tmp)\n",
    "    \n",
    "# Fill the y_train\n",
    "for row in range(len(basketball_table.data)):\n",
    "    y_train.append(basketball_table.data[row][-1])\n",
    "\n",
    "# Creating MyZeroR and Random Classifiers to test validity of dataset\n",
    "rand = MyRandomClassifier()\n",
    "zero = MyZeroRClassifier()\n",
    "knn_split = MyKNeighborsClassifier()\n",
    "naivebayes_split = MyNaiveBayesClassifier()\n",
    "\n",
    "\n",
    "\n",
    "# Getting train/test splits for the data\n",
    "split_X_train, split_X_test, split_y_train, split_y_test = myevaluation.train_test_split(X_train, y_train)\n",
    "\n",
    "# Normalize Data for KNN\n",
    "knn_train, knn_test = myutils.normalize(split_X_train, split_X_test)\n",
    "#knn_split_X_train, knn_split_X_test, knn_split_y_train, knn_split_y_test = myevaluation.train_test_split(knn_X_train, knn_y_train)\n",
    "\n",
    "# fit both MyZeroR and Random Classifiers\n",
    "zero.fit(split_X_train, split_y_train)\n",
    "rand.fit(split_X_train, split_y_train)\n",
    "knn_split.fit(knn_train, split_y_train)\n",
    "naivebayes_split.fit(split_X_train, split_y_train)\n",
    "\n",
    "\n",
    "# predicting with both MyZeroR and Random Classifiers\n",
    "zero_predictions = zero.predict(split_X_test)\n",
    "rand_predictions = rand.predict(split_X_test)\n",
    "naivebayes_predictions = naivebayes_split.predict(split_X_test)\n",
    "\n",
    "knn_predictions = []\n",
    "for i in range(len(knn_test)):\n",
    "    prediction = knn_split.predict(knn_test)\n",
    "    only_prediction = prediction[0]\n",
    "    knn_predictions.append(only_prediction)\n",
    "    \n",
    "    \n",
    "\n",
    "\n",
    "\n",
    "# Finding accuracy of each classifier\n",
    "zero_accuracy = 0\n",
    "rand_accuracy = 0\n",
    "naivebayes_accuracy = 0\n",
    "knn_accuracy = 0\n",
    "forest_accuracy = 0\n",
    "\n",
    "for i in range(len(zero_predictions)):\n",
    "    if zero_predictions[i] == split_y_test[i]:\n",
    "        zero_accuracy += 1\n",
    "        \n",
    "for i in range(len(rand_predictions)):\n",
    "    if rand_predictions[i] == split_y_test[i]:\n",
    "        rand_accuracy += 1\n",
    "\n",
    "for i in range(len(naivebayes_predictions)):\n",
    "    if naivebayes_predictions[i] == split_y_test[i]:\n",
    "        naivebayes_accuracy += 1\n",
    "        \n",
    "for i in range(len(knn_predictions)):\n",
    "    if knn_predictions[i] == split_y_test[i]:\n",
    "        knn_accuracy += 1\n",
    "        \n",
    "init_forest_X_train = []\n",
    "#init_forest_X_train.append([\\\"seed\\\", \\\"overall w-l%\\\", \\\"conference w-l%\\\", \\\"own ppg\\\", \\\"opp ppg\\\", \\\"sweet-16?\\\"])\\n\",\n",
    "#del init_forest_X_train[0][-1]\\n\",\n",
    "# Get X_train\\n\",\n",
    "for index in range(len(seed)):\n",
    "    tmp = []\n",
    "    tmp.append(seed[index])\n",
    "    tmp.append(ranked_overall[index])\n",
    "    tmp.append(ranked_conference[index])\n",
    "    tmp.append(ranked_own_ppg[index])\n",
    "    tmp.append(ranked_opp_ppg[index])\n",
    "    init_forest_X_train.append(tmp)   \n",
    "# Get y_train\n",
    "init_forest_y_train = copy.deepcopy(sweet16)\n",
    "forest_X_train, forest_X_test, forest_y_train, forest_y_test = myevaluation.train_test_split(init_forest_X_train, init_forest_y_train)\n",
    "# Create a MyDecisionTreeClassifier object \n",
    "#print(X_train)\n",
    "forest = MyRandomForestClassifier(100, 2, 2)\n",
    "# Call fit\n",
    "#actual = ['True', 'True', 'True']\\n\",\n",
    "forest.fit(forest_X_train, forest_y_train)\n",
    "forest_predictions = forest.predict(forest_X_test)\n",
    "forest_accuracy = 0\n",
    "    \n",
    "for i in range(len(forest_predictions)):\n",
    "    if forest_predictions[i] == forest_y_test[i]:\n",
    "        forest_accuracy += 1\n",
    "    #print(forest_X_train)\\n\",\n",
    "    #print(forest_X_test)\\n\",\n",
    "    #print(forest_y_train)\\n\",\n",
    "    #print(forest_y_test)\n",
    "\n",
    "\n",
    "print(\"zero Accuracy: \", round(zero_accuracy / len(split_y_test), 2))\n",
    "print(\"Random Accuracy: \", round(rand_accuracy / len(split_y_test), 2))\n",
    "print(\"Naivebayes Accuracy: \", round(naivebayes_accuracy / len(split_y_test), 2))\n",
    "print(\"KNN Accuracy: \", round(knn_accuracy / len(split_y_test), 2))\n",
    "print(\"Forest Accuracy: \", round(forest_accuracy / len(forest_y_test), 2))"
   ]
  },
  {
   "cell_type": "markdown",
   "metadata": {},
   "source": [
    "<p>For our dataset, we decided to use the Naivebayes, KNN, and Forest classifiers to predict our labels. We used train-test split for our Naivebayes, KNN, and the Forest classifier to get our train and test sets for our data. Our Naivebayes and KNN were pulled from our programming assignments while we made the Forest classifier for this project. The Forest classifier was built using the instructions from class that uses the bootstrapped method and builds each tree differently.</p>\n",
    "<p>We determined the efficiency of our predictors using the accuracy of our predictions. One issue we had with this dataset is the fact that most of our classifiers simply predict \"No\" as 75% of the labels are \"No\". So, while everything other than Naivebayes have an accuracy of 75% this is because they always predict \"No\". Naivebayes, on the other hand, has a lower accuracy at 64% however, it is predicting both \"Yes\" and \"No\". Therefore, we deemed that Naivebayes is our best classifier as 2 times out of 3 it will have a correct prediction and will predict each label.</p>"
   ]
  }
 ],
 "metadata": {
  "kernelspec": {
   "display_name": "Python 3",
   "language": "python",
   "name": "python3"
  },
  "language_info": {
   "codemirror_mode": {
    "name": "ipython",
    "version": 3
   },
   "file_extension": ".py",
   "mimetype": "text/x-python",
   "name": "python",
   "nbconvert_exporter": "python",
   "pygments_lexer": "ipython3",
   "version": "3.8.5"
  }
 },
 "nbformat": 4,
 "nbformat_minor": 4
}
